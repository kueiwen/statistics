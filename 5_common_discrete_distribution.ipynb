{
 "cells": [
  {
   "cell_type": "markdown",
   "metadata": {},
   "source": [
    "# **Common Discrete Distribution**"
   ]
  },
  {
   "cell_type": "markdown",
   "metadata": {},
   "source": [
    "### **1. Burnoulli distribution**\n",
    "\n",
    "* Bernoulli trail: a random experiment get 2 kinds of results: success or failure.\n",
    "* Doing once Bernoulli trail, define $X$ as the times of *success* events happened.\n",
    "* $\\cal{R}_{\\it{x}}=\\lbrace 0,1 \\rbrace$\n",
    "* parameter $p$: the probability of success, $0\\leq p \\leq 1$\n",
    "\n",
    "* $X\\sim\\text{Ber}(p)$\n",
    "    $\\implies f_X(x)=p^{x}(1-p)^{(1-x)}, \\quad x=0,1$\n",
    "\n",
    "* $E(X) = 1\\times p + 0\\times (1-p) = p$\n",
    "* $Var(X) = 1^2\\times p + 0^2\\times (1-p) = p$\n",
    "* $M_X(t) = E(e^{tx})=e^{t。1}\\times p + e^{t。0}\\times (1-p) = pe^t + q$"
   ]
  },
  {
   "cell_type": "code",
   "execution_count": 1,
   "metadata": {},
   "outputs": [
    {
     "name": "stdout",
     "output_type": "stream",
     "text": [
      "The probability of success:  0.1\n",
      "The probability of fail:  0.9\n"
     ]
    }
   ],
   "source": [
    "import numpy as np\n",
    "p = 0.1\n",
    "def Bernoulli(x: int, p: float = 0.1) -> float:\n",
    "    \"\"\"Implement Bernoulli pmf function\n",
    "    Args:\n",
    "        x (int): the number of success of one trail , {0,1}\n",
    "        p (float): the probability of success\n",
    "    Retruns:\n",
    "        float: pmf value\"\"\"\n",
    "    return np.power(p,x)*np.power((1-p),(1-x))\n",
    "\n",
    "print(\"The probability of success: \", Bernoulli(1))\n",
    "print(\"The probability of fail: \", Bernoulli(0))"
   ]
  },
  {
   "cell_type": "markdown",
   "metadata": {},
   "source": [
    "### **2. Binomial distribution**\n",
    "\n",
    "* Binomial theorem: $(a+b)^n = \\sum_{x=0}^{n} \\begin{pmatrix} n \\\\ x \\end{pmatrix} a^{x}b^{(n-x)}$\n",
    "\n",
    "* Doing n times independent Burnoulli trail, $X$ represents the times of success.\n",
    "* $\\cal{R}_{\\it{x}}=\\lbrace 0,1,...,n \\rbrace$\n",
    "* parameters\n",
    "    * $n$: the number of trials\n",
    "    * $p$: the probability of success\n",
    "* $X\\sim\\cal{B}\\it{(n,p)}$\n",
    "    $\\implies f_X(x)=\\begin{pmatrix} n \\\\ x \\end{pmatrix}p^{x}(1-p)^{(n-x)}, \\quad x=0,1,...,n$\n",
    "* $E(X) = \\sum_{x=0}^{n}x \\begin{pmatrix} n \\\\ x \\end{pmatrix}p^{x}(1-p)^{(n-x)}=\\sum_{x=0}^{n}x\\frac{n!}{x!(n-x)!}p^{x}(1-p)^{(n-x)}$  \n",
    "    \n",
    "    $=np\\sum_{x=1}^{n}\\frac{(n-1)!}{(x-1)![(n-1)-(x-1)]!}p^{(x-1)}(1-p)^{(n-1)-(x-1)}$ \n",
    "\n",
    "    $=np\\sum_{y=0}^{n}\\frac{m!}{y!(m-y)!}p^{y}(1-p)^{m-y}=np$\n",
    "\n",
    "* $Var(X) = E(X^2) - [E(X)]^2 = [E[X(X-1)] + E(X) - [E(X)]^2 $  \n",
    "\n",
    "    $= n(n-1)p^2 + np - (np)^2 = np(1-p)$\n",
    "\n",
    "    * $[E[X(X-1)] = \\sum_{x=0}^{n}x(x-1) \\begin{pmatrix} n \\\\ x \\end{pmatrix}p^{x}(1-p)^{(n-x)} = \\sum_{x=2}^{n}x(x-1) \\frac{n!}{x!(n-x)!}p^{x}(1-p)^{(n-x)}$\n",
    "\n",
    "        $=n(n-1)p^2 \\sum_{x=2}^{n} \\frac{(n-2)!}{(x-2)![(n-2)-(x-2)]!}p^{(x-2)}(1-p)^{(n-2)-(x-2)}$\n",
    "\n",
    "        $=n(n-1)p^2 \\sum_{y=0}^{n} \\frac{m!}{y![m-y]!}p^{y}(1-p)^{m-y}$\n",
    "\n",
    "        $=n(n-1)p^2$\n",
    "\n",
    "* $M_X(t) = E(e^{tx})=e^{t。np} \\sum_{x=0}^{n} \\frac{x!}{x!(n-x)!}p^{x}(1-p)^{(n-x)}e^{-tx}=(pe^{t}+q)^2$"
   ]
  },
  {
   "cell_type": "code",
   "execution_count": 2,
   "metadata": {},
   "outputs": [
    {
     "name": "stdout",
     "output_type": "stream",
     "text": [
      "The probability of 3 success out of 5 trails:  0.20479999999999993\n"
     ]
    }
   ],
   "source": [
    "from math import comb\n",
    "n = 5\n",
    "p = 0.8\n",
    "def Binomial(x: int, n: int = 5, p: float = 0.8) -> float:\n",
    "    \"\"\"Implement Binomial pmf function\n",
    "    Args:\n",
    "        x (int): the number of success of n trails, {0,1,...,n}\n",
    "        n (int): number of trials\n",
    "        p (float): the probability of success\n",
    "    Retruns:\n",
    "        float: pmf value\"\"\"\n",
    "    return comb(n,x)*np.power(p,x)*np.power((1-p),(n-x))\n",
    "\n",
    "print(\"The probability of 3 success out of 5 trails: \", Binomial(3))"
   ]
  },
  {
   "cell_type": "code",
   "execution_count": 3,
   "metadata": {},
   "outputs": [
    {
     "data": {
      "text/plain": [
       "<Axes: xlabel='x', ylabel='p=0.8'>"
      ]
     },
     "execution_count": 3,
     "metadata": {},
     "output_type": "execute_result"
    },
    {
     "data": {
      "image/png": "[encoded data removed]",
      "text/plain": [
       "<Figure size 1500x500 with 3 Axes>"
      ]
     },
     "metadata": {},
     "output_type": "display_data"
    }
   ],
   "source": [
    "## B(n=10, p=0.2)\n",
    "import pandas as pd\n",
    "import matplotlib.pyplot as plt\n",
    "import seaborn as sns\n",
    "df = pd.DataFrame()\n",
    "df['x'] = np.arange(21)\n",
    "for p in [0.2, 0.5, 0.8]:\n",
    "    b = []\n",
    "    for i in range(21):\n",
    "        b.append(Binomial(i,20,p))\n",
    "    df['p='+str(p)] = b\n",
    "\n",
    "plt.figure(figsize=(15,5))\n",
    "plt.subplot(1,3,1)\n",
    "sns.scatterplot(\n",
    "  data=df,\n",
    "  x='x',\n",
    "  y='p=0.2'\n",
    ")\n",
    "plt.subplot(1,3,2)\n",
    "sns.scatterplot(\n",
    "  data=df,\n",
    "  x='x',\n",
    "  y='p=0.5'\n",
    ")\n",
    "plt.subplot(1,3,3)\n",
    "sns.scatterplot(\n",
    "  data=df,\n",
    "  x='x',\n",
    "  y='p=0.8'\n",
    ")\n"
   ]
  },
  {
   "cell_type": "markdown",
   "metadata": {},
   "source": [
    "### **3. Geometric distribution**\n",
    "\n",
    "* Geometric series: $a_1+a_1r+a_1r^2+...+a_1r^{n-1}=\\frac{a_1(1-r^n)}{1-r}$\n",
    "* The number of trails needed until one seccess when doing $n$ Bernoulli trail$\n",
    "* $\\cal{R}_{\\it{x}}=\\lbrace 0,1,...,\\infty \\rbrace$\n",
    "* parameter $p$: the probability of success, $0\\leq p \\leq 1$\n",
    "\n",
    "* $X\\sim Geo(p)$\n",
    "    $\\implies f_X(x)=p(1-p)^{(x-1)}, \\quad x=0,1,...,\\infty$ \n",
    "\n",
    "* $E(X)=\\sum_{i=1}^{\\infty}xpq^{x-1}=p\\frac{d}{dq}(\\sum_{x=1}^{\\infty}q^x)=p\\frac{d}{dq}(\\frac{q}{1-q})=p\\frac{1}{(1-q)^2}=\\frac{1}{p}$\n",
    "\n",
    "* $Var(X) = E(X^2) - [E(X)]^2 = [E[X(X-1)] + E(X) - [E(X)]^2 $  \n",
    "\n",
    "    $=\\frac{2q}{p}+\\frac{1}{p}-(\\frac{1}{p})^2 = \\frac{q}{p^2}$\n",
    "\n",
    "    * $[E[X(X-1)] = \\sum_{x=1}^{\\infty}x(x-1)q^{x-1} = \\sum_{x=2}^{\\infty}x(x-1) \\frac{q!}{x!(x-1)!}q^{(x-1)}$\n",
    "\n",
    "        $=pq\\sum_{i=1}^{\\infty}\\frac{d^2}{dq^2}q^x=pq\\frac{d^2}{dq^2}(\\sum_{x=1}^{\\infty}q^x)$\n",
    "\n",
    "        $=pq\\frac{d^2}{dq^2}\\frac{q}{1-q}=pq\\frac{2}{(1-q)^3}=\\frac{2q}{p^2}$\n",
    "\n",
    "* $M_X(t) = E(e^{tx})=\\sum_{i=1}^{\\infty}e^{tx}pq^{x-1}=\\frac{p}{q}\\sum_{i=1}^{\\infty}(qe^t)^x=\\frac{p}{q}\\frac{qe^t}{1-qe^t}=\\frac{pe^t}{1-qe^t}$\n",
    "\n",
    "* Memoryless property: $P(X>a+b|X>a)=P(X>b)$\n",
    "    * Known that have done a trails, the probability of the number of trails needed from very beginning is larger than $a+b$, is the same the the number of trails needed from now one is larger than $b$"
   ]
  },
  {
   "cell_type": "code",
   "execution_count": 4,
   "metadata": {},
   "outputs": [
    {
     "name": "stdout",
     "output_type": "stream",
     "text": [
      "The probability of 5 trails until one success:  0.03125\n"
     ]
    }
   ],
   "source": [
    "def Geometric(x: int, p: float = 0.5) -> float:\n",
    "    \"\"\"Implement Geometric pmf function\n",
    "    Args:\n",
    "        x (int): the number of trails needed until one success, {0,1,...,\\infty}\n",
    "        p (float): the probability of success, 0 <= p <= 1\n",
    "    Retruns:\n",
    "        float: pmf value\"\"\"\n",
    "    return p*(1-p)**(x-1)\n",
    "\n",
    "print(\"The probability of 5 trails until one success: \", Geometric(5))"
   ]
  },
  {
   "cell_type": "markdown",
   "metadata": {},
   "source": [
    "### **4. Negative binomial distribution**\n",
    "\n",
    "* Negative binomial series: $(1-q)^{-r}=\\sum_{i=0}^{\\infty}\\begin{pmatrix} i+r-1 \\\\ i \\end{pmatrix}q^i=\\sum_{i=0}^{\\infty}\\begin{pmatrix} i+r-1 \\\\ r-1 \\end{pmatrix}q^i$\n",
    "\n",
    "* The number of trails needed until $r$ times seccess when doing $n$ Bernoulli trail\n",
    "* $\\cal{R}_{\\it{x}}=\\lbrace r,r+1,...,\\infty \\rbrace$\n",
    "* parameters\n",
    "    * $r$: times of success events, $r \\in \\Bbb{N}$\n",
    "    * $p$: the probability of success\n",
    "* $X\\sim\\cal{NB}(r,p)$\n",
    "\n",
    "* $E(X)=\\sum_{x=r}^{\\infty}x\\frac{(x-1)!}{(r-1)!(x-r)!} p^rq^{x-r}$\n",
    "    \n",
    "    $=\\frac{r}{p}\\sum_{x=r}^{\\infty}\\frac{x!}{r!(x-r)!} p^{r+1}q^{x-r}$\n",
    "\n",
    "    $=\\frac{r}{p}\\sum_{y=k}^{\\infty}\\frac{(y-1)!}{((k-1)!(y-k)!} p^{k}q^{y-k}=\\frac{r}{p}$\n",
    "\n",
    "* $Var(X) = E(X^2) - [E(X)]^2 = [E[X(X+1)] - E(X) - [E(X)]^2 $  \n",
    "\n",
    "    $=\\frac{r(r+1)q}{p^2} - \\frac{r}{p^2} - \\left(\\frac{r}{p}\\right)^2 = \\frac{r(r+1)q}{p^2} - \\frac{r^2}{p^2} - \\frac{r^2}{p^2} = \\frac{rq}{p^2}$\n",
    "\n",
    "    * $[E[X(X+1)] = \\sum_{x=r}^{\\infty}x(x+1)\\frac{(x-1)!}{(r-1)!(x-r)!} p^rq^{x-r}$  \n",
    "\n",
    "        $=\\frac{(r+1)r}{p^2}\\sum_{x=r}^{\\infty}\\frac{(x+1)!}{(r+1)!(x-r)!}p^{r+2}q^{x-r}$\n",
    "\n",
    "        $=\\frac{(r+1)r}{p^2}\\sum_{y=k}^{\\infty}\\frac{(y-1)!}{(k-1)!(y-k)!}p^{k}q^{y-k}=\\frac{(r+1)r}{p^2}$\n",
    "\n",
    "\n",
    "* $M_x(t) = \\sum_{x=r}^{\\infty}e^{tx}\\frac{(x-1)!}{(r-1)!(x-r)!} p^rq^{x-r}=(pe^t)^r\\sum_{x=r}^{\\infty}\\begin{pmatrix}x-1 \\\\ r-1\\end{pmatrix}(qe^t)^{x-r}$\n",
    "\n",
    "    $=(pe^t)^r\\sum_{i=0}^{\\infty}\\begin{pmatrix}i+r-1 \\\\ r-1\\end{pmatrix}(qe^t)^{i}=(\\frac{pe^t}{1-qe^t})^r$\n",
    "\n",
    "\n",
    "* Negative binomial is dual function of binomial distribution.\n",
    "    * $X\\sim\\cal{B}(n,p)$,  $Y\\sim\\cal{NB}(r,p)$ $\\implies P(X>n) = P(Y < r)$"
   ]
  },
  {
   "cell_type": "code",
   "execution_count": 5,
   "metadata": {},
   "outputs": [
    {
     "name": "stdout",
     "output_type": "stream",
     "text": [
      "Then probability of trails until 10 success needed is 20:  0.08809852600097656\n"
     ]
    }
   ],
   "source": [
    "def NegativeBinomial(x: int, r: int = 10, p: float = 0.5) -> float:\n",
    "    \"\"\"Implement Negative binomial pmf function\n",
    "    Args:\n",
    "        x (int): the number of trails needed until r times success, {r,r+1,...,\\infty}\n",
    "        r (int): times of success events, \n",
    "        p (float): the probability of success, 0 <= p <= 1\n",
    "    Retruns:\n",
    "        float: pmf value\"\"\"\n",
    "    if x < r:\n",
    "        print(f\"x input should be equal to or large than r ({r})\")\n",
    "    return comb(x-1,r-1)*(p**r)*(1-p)**(x-r)\n",
    "\n",
    "print(\"Then probability of trails until 10 success needed is 20: \", NegativeBinomial(20))"
   ]
  },
  {
   "cell_type": "markdown",
   "metadata": {},
   "source": [
    "#### **5. Hyper geometric distribution**\n",
    "\n",
    "* Hypergeometric series: $\\begin{pmatrix} N \\\\ n \\end{pmatrix}=\\sum_{i=0}^{n}\\begin{pmatrix} K \\\\ x \\end{pmatrix}\\begin{pmatrix} N-K \\\\ n-x \\end{pmatrix}$\n",
    "\n",
    "* There are $N$ items, $K$ are successful class and $N-K$ are failed class. The probability of pick $n$ items (with replacement) and $x$ are successful class.\n",
    "* $\\cal{R}_{\\it{x}}=\\lbrace 0,1,...,n \\rbrace$\n",
    "* parameters\n",
    "    * $N$: total number of items, $N \\in \\Bbb{N}$\n",
    "    * $K$: number of successful class, $K \\in \\Bbb{N}$\n",
    "    * $n$: number of items to pick, $n \\in \\Bbb{N}$\n",
    "\n",
    "* $X\\sim Hyper(N,K,n)$\n",
    "    $\\implies f_X(x)=\\frac{\\begin{pmatrix} K \\\\ x \\end{pmatrix}\\begin{pmatrix} N-K \\\\ n-x \\end{pmatrix}}{\\begin{pmatrix} N \\\\ n \\end{pmatrix}}$\n",
    "\n",
    "* $E(X)=n\\frac{N}{K}$\n",
    "\n",
    "* $Var(X)=n(\\frac{K}{N})(1-\\frac{K}{N})(\\frac{N-n}{N-1})$\n",
    "\n",
    "    * $\\frac{N-n}{N-1}$ is finite population correction factor.\n",
    "\n",
    "* When $N \\to \\infty$, $K \\to \\infty$ and $\\frac{K}{N} \\to p$ $\\implies Hyper(N,K,n) \\to \\cal{B}(n,p)$"
   ]
  },
  {
   "cell_type": "code",
   "execution_count": 6,
   "metadata": {},
   "outputs": [
    {
     "name": "stdout",
     "output_type": "stream",
     "text": [
      "The probability of picking 15 successful items from 100 items with 80 successful ones out of 20 picks:  0.1919509658690231\n"
     ]
    }
   ],
   "source": [
    "def HyperGeometric(x: int, N: int = 100, K: int = 80, n: int = 20):\n",
    "    \"\"\"Implement Hyper geometric pmf function\n",
    "    Args:\n",
    "        x (int): the number of successful items picked, {0,1,...,n}\n",
    "        N (int): total number of items, N > 0\n",
    "        K (int): number of successful class, K > 0\n",
    "        n (int): number of items to pick, n > 0\"\"\"\n",
    "    if x < 0 or x > n:\n",
    "        print(f\"x input should be between 0 and n ({n})\")\n",
    "    return comb(K, x)*comb(N-K, n-x)/comb(N, n)\n",
    "\n",
    "print(\"The probability of picking 15 successful items from 100 items with 80 successful ones out of 20 picks: \", HyperGeometric(15))"
   ]
  },
  {
   "cell_type": "markdown",
   "metadata": {},
   "source": [
    "### **6. Poisson distribution**\n",
    "\n",
    "* Marclaurin series: $e^{\\lambda}=\\frac{e^0}{0!}\\lambda^1+\\frac{e^1}{1!}\\lambda^2+\\frac{e^2}{2!}\\lambda^3+\\frac{e^3}{3!}\\lambda^0+...=\\sum_{x=0}^{\\infty}\\frac{\\lambda^x}{x!}$\n",
    "\n",
    "* Poisson process\n",
    "    * The probability of event happened depends on the interval, not on the start point.\n",
    "    * The probability of event happened more than twice in a short interval is almost 0.\n",
    "    * If the intervals are not overlapped, the probabilities of event happened are independent.\n",
    "    * The expected times of event happend is proportional to the length of interval.\n",
    "\n",
    "* The times of rare event happned within an interval is defined as $X$\n",
    "\n",
    "* $\\cal{R}_{\\it{x}}=\\lbrace 0,1,...,\\infty \\rbrace$\n",
    "\n",
    "* parameter $\\lambda$: the expected happened times of event in an interval\n",
    "\n",
    "* $X\\sim\\text{Poi}(\\lambda)$ $\\implies f_X(x)=\\frac{e^{-\\lambda}\\lambda^x}{x!}$\n",
    "\n",
    "* $E(X)=\\sum_{x=0}^{\\infty}x\\frac{e^{-\\lambda}{\\lambda}^{x}}{x!}=e^{-\\lambda}\\sum_{x=1}^{\\infty}x\\frac{{\\lambda}^{x}}{x!}=e^{-\\lambda}\\lambda\\sum_{x=1}^{\\infty}\\frac{{\\lambda}^{x-1}}{(x-1)!}=e^{-\\lambda}\\lambda\\sum_{y=0}^{\\infty}\\frac{{\\lambda}^y}{y!}=e^{-\\lambda}\\lambda e^{\\lambda}=\\lambda$\n",
    "\n",
    "* $Var(X)=E(X^2)-[E(X)]^2=E[X(X-1)]+E(X)-[E(X)]^2={\\lambda}^2+\\lambda-{\\lambda}^2=\\lambda$\n",
    "    * $E[X(X-1)]=\\sum_{x=0}^{\\infty}x(x-1)\\frac{e^{-\\lambda}{\\lambda}^{x}}{x!}=e^{-\\lambda}\\sum_{x=2}^{\\infty}x(x-1)\\frac{{\\lambda}^{x}}{x!}=e^{-\\lambda}{\\lambda}^2\\sum_{x=2}^{\\infty}\\frac{{\\lambda}^{x-2}}{(x-2)!}=e^{-\\lambda}{\\lambda}^2\\sum_{y=0}^{\\infty}\\frac{{\\lambda}^y}{y!}=e^{-\\lambda}{\\lambda}^2 e^{\\lambda}={\\lambda}^2$\n",
    "\n",
    "* $M(t)=E(e^{tx})=\\sum_{x=0}^{\\infty}e^{tx}\\frac{e^{-\\lambda}{\\lambda}^{x}}{x!}=e^{-\\lambda}\\frac{{(\\lambda e^t)}^{x}}{x!}=e^{-\\lambda}e^{\\lambda e^t}=e^{\\lambda(e^t-1)}$\n",
    "\n",
    "* additivity:  \n",
    "    $\\perp \\begin{cases} X \\sim \\text{Poi}(\\lambda_1) \\\\ Y \\sim \\text{Poi}(\\lambda_2) \\end{cases} \\implies U=X+Y \\sim \\text{Poi}(\\lambda_1+\\lambda_2)$\n",
    "\n",
    "* When $n \\to \\infty$ and $p \\to 0$, and $np \\to \\lambda$, $\\cal{B}(n,p) \\to \\text{Poi}(\\lambda)$"
   ]
  },
  {
   "cell_type": "code",
   "execution_count": 7,
   "metadata": {},
   "outputs": [
    {
     "name": "stdout",
     "output_type": "stream",
     "text": [
      "The probability of 3 success in a given time interval with average 5:  0.14037389581428056\n"
     ]
    }
   ],
   "source": [
    "def Poisson(x: int, lam: float = 5) -> float:\n",
    "    \"\"\"Implement Poisson pmf function\n",
    "    Args:\n",
    "        x (int): the number of success, {0,1,...,\\infty}\n",
    "        lam (float): the average number of success in a given time interval\n",
    "    Retruns:\n",
    "        float: pmf value\"\"\"\n",
    "    return np.exp(-lam)*np.power(lam,x)/np.math.factorial(x)\n",
    "print(\"The probability of 3 success in a given time interval with average 5: \", Poisson(3))"
   ]
  },
  {
   "cell_type": "code",
   "execution_count": 8,
   "metadata": {},
   "outputs": [
    {
     "data": {
      "text/plain": [
       "<Axes: xlabel='x', ylabel='lambda=15'>"
      ]
     },
     "execution_count": 8,
     "metadata": {},
     "output_type": "execute_result"
    },
    {
     "data": {
      "image/png": "[encoded data removed]",
      "text/plain": [
       "<Figure size 1500x500 with 3 Axes>"
      ]
     },
     "metadata": {},
     "output_type": "display_data"
    }
   ],
   "source": [
    "df = pd.DataFrame()\n",
    "df['x'] = np.arange(21)\n",
    "p_5 = list()\n",
    "p_10 = list()\n",
    "p_15 = list()\n",
    "for p in df['x']:\n",
    "    p_5.append(Poisson(p, 5))\n",
    "    p_10.append(Poisson(p, 10))\n",
    "    p_15.append(Poisson(p, 15))\n",
    "df['lambda=5'] = p_5\n",
    "df['lambda=10'] = p_10\n",
    "df['lambda=15'] = p_15\n",
    "\n",
    "plt.figure(figsize=(15,5))\n",
    "plt.subplot(1,3,1)\n",
    "sns.scatterplot(\n",
    "  data=df,\n",
    "  x='x',\n",
    "  y='lambda=5'\n",
    ")\n",
    "plt.subplot(1,3,2)\n",
    "sns.scatterplot(\n",
    "  data=df,\n",
    "  x='x',\n",
    "  y='lambda=10'\n",
    ")\n",
    "plt.subplot(1,3,3)\n",
    "sns.scatterplot(\n",
    "  data=df,\n",
    "  x='x',\n",
    "  y='lambda=15'\n",
    ")"
   ]
  },
  {
   "cell_type": "markdown",
   "metadata": {},
   "source": [
    "### **7. Discrete uniform distribution**\n",
    "\n",
    "* The probability of $X$ at each point is the same\n",
    "\n",
    "* $\\cal{R}_{\\it{x}}=\\lbrace 0,1,...,N \\rbrace$\n",
    "\n",
    "* parameter $N$: upperbound, $N \\in \\Bbb{N}$\n",
    "\n",
    "* $X\\sim\\cal{DU}(N)$ $\\implies f_X(x)=\\frac{1}{N}$\n",
    "\n",
    "* $E(X)=\\sum_{x=1}^{N}x\\frac{1}{N}=\\frac{1}{N}\\frac{N(N+1)}{2}=\\frac{1+N}{2}$\n",
    "\n",
    "* $Var(X)=E(X^2)-[E(X)]^2=\\frac{(N+1)(2N+1)}{6}-(\\frac{1+N}{2})^2=\\frac{N^2-1}{12}$\n",
    "\n",
    "    * $E(X^2)=\\sum_{x=1}^{N}x^2\\frac{1}{N}=\\frac{1}{N}\\frac{N(N+1)(2N+1)}{6}=\\frac{(N+1)(2N+1)}{6}$\n",
    "\n",
    "* $M(t)=E(e^{tx})= \\frac{1}{N}\\lbrace\\frac{e^t(1-e^{Nt})}{1-e^t}\\rbrace$"
   ]
  },
  {
   "cell_type": "code",
   "execution_count": 9,
   "metadata": {},
   "outputs": [
    {
     "name": "stdout",
     "output_type": "stream",
     "text": [
      "The probability of rolling a 3 with a dice:  0.16666666666666666\n"
     ]
    }
   ],
   "source": [
    "def DiscreteUniform(x: int, a: int = 1, b: int = 6) -> float:\n",
    "    \"\"\"Implement Discrete Uniform pmf function\n",
    "    Args:\n",
    "        x (int): the number of success, {a,a+1,...,b}\n",
    "        a (int): the minimum value\n",
    "        b (int): the maximum value\n",
    "    Retruns:\n",
    "        float: pmf value\"\"\"\n",
    "    if x < a or x > b:\n",
    "        print(f\"x input should be between {a} and {b}\")\n",
    "    return 1/(b-a+1)\n",
    "print(\"The probability of rolling a 3 with a dice: \", DiscreteUniform(3))"
   ]
  }
 ],
 "metadata": {
  "kernelspec": {
   "display_name": "rl_test",
   "language": "python",
   "name": "python3"
  },
  "language_info": {
   "codemirror_mode": {
    "name": "ipython",
    "version": 3
   },
   "file_extension": ".py",
   "mimetype": "text/x-python",
   "name": "python",
   "nbconvert_exporter": "python",
   "pygments_lexer": "ipython3",
   "version": "3.8.10"
  }
 },
 "nbformat": 4,
 "nbformat_minor": 2
}
