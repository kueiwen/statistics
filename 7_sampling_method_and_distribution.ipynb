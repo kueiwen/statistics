{
 "cells": [
  {
   "cell_type": "markdown",
   "metadata": {},
   "source": [
    "# **Sampling Method and Sampling Distribution**"
   ]
  },
  {
   "cell_type": "markdown",
   "metadata": {},
   "source": [
    "If we have population daga, then pmf or pdf can be generated accordingly, called population distribution. However, we won't have population data due to cost issue, usually we sample from the population.\n",
    "\n",
    "Random samples with size of $n$ can be considered as $n$ random variables and independent and identical distribution (iid) from population distribution.\n",
    "\n",
    "Sample mean: $\\overline{X}=\\frac{1}{n}\\sum_{i=1}^{n}X_i \\to \\mu$  \n",
    "\n",
    "Sample variance: $S^2=\\frac{1}{n-1}\\sum_{i=1}^{n}(X_i-\\overline{X})^2 \\to \\sigma^2$\n",
    "\n",
    "Sample ratio $\\hat{p}=\\frac{1}{n}\\sum_{i=1}^{n}X_i \\to p$"
   ]
  },
  {
   "cell_type": "markdown",
   "metadata": {},
   "source": [
    "## **Common Sample Distribution**"
   ]
  },
  {
   "cell_type": "markdown",
   "metadata": {},
   "source": [
    "### **1. Standard normal distribution**\n",
    "\n",
    "* $Z\\sim\\cal{N}(0,1)$\n",
    "\n",
    "* $\\cal{R}_{\\it{x}}=\\lbrace x| -\\infty \\leq x \\leq \\infty \\rbrace$\n",
    "\n",
    "* $\\phi(z)=\\frac{1}{\\sqrt{2\\pi}}e^{\\frac{-1}{2}z^2}$\n",
    "\n",
    "* $\\Phi(z)=P(Z\\geq z)=\\int_{-\\infty}^{\\infty}\\phi(t)dt$"
   ]
  },
  {
   "cell_type": "markdown",
   "metadata": {},
   "source": [
    "### **2. Chi-squared distribution**\n",
    "\n",
    "* $X\\sim\\text{Gamma}(\\frac{\\nu}{2},2)\\sim\\chi^2(\\nu)\\implies f_X(x)=\\frac{x^{\\frac{\\nu}-1}{2}e^{\\frac{-x}{2}}}{2^{\\frac{\\mu}{2}}\\Gamma(\\frac{\\nu}{2})}$\n",
    "\n",
    "* $\\cal{R}_{\\it{x}}=\\lbrace x| x\\geq 0 \\rbrace$\n",
    "\n",
    "* $E(X)=\\frac{\\nu}{2}\\times 2=\\nu$\n",
    "\n",
    "* $Var(X)=\\frac{\\nu}{2}\\times 2^2=2\\nu$\n",
    "\n",
    "* $M_X(t)=(1-2t)^{\\frac{-\\nu}{2}}$\n",
    "\n",
    "* Given $Z\\sim\\cal{N}(0,1)$ and $Y=Z^2$, then $Y=X^2\\sim\\chi^2(1)$\n",
    "\n",
    "* If $X\\sim\\chi^2(\\nu)$, then $\\plim_{\\nu\\to\\infty}\\frac{X}{\\nu}=1$\n",
    "\n",
    "* When $\\nu$ large enough, $\\frac{X-\\nu}{\\sqrt{2\\nu}}\\to\\cal{N}(0,1)$\n",
    "\n",
    "* Additivity \n",
    "    $\\perp \\begin{cases} X \\sim \\chi^2(\\nu_1) \\\\ Y \\sim \\chi^2(\\nu_2) \\end{cases} \\implies U=X+Y \\sim \\chi^2(\\nu_1+\\nu_2)$"
   ]
  },
  {
   "cell_type": "markdown",
   "metadata": {},
   "source": [
    "### **3. Student's t distribution**\n",
    "\n",
    "* $T=\\frac{Z}{\\sqrt{\\frac{X}{\\nu}}}\\sim t(\\nu)\\implies f_X(x)=\\frac{\\Gamma(\\frac{\\nu+1}{2})}{\\Gamma(\\frac{\\nu}{2})}\\frac{1}{\\sqrt{\\nu\\pi}}(1+\\frac{t^2}{\\nu})^{-\\frac{\\nu+1}{2}}$\n",
    "\n",
    "* $\\cal{R}_{\\it{T}}=\\lbrace t| -\\infty \\leq t \\leq \\infty \\rbrace$\n",
    "\n",
    "* $E(T)=E(Z)E(\\frac{1}{\\sqrt{\\frac{X}{\\nu}}})=0\\times E(\\frac{1}{\\sqrt{\\frac{X}{\\nu}}})=0$\n",
    "\n",
    "* $Var(T)=\\frac{\\nu}{\\nu-2}$\n",
    "\n",
    "    * $E(X^2)=E(\\frac{Z^2}{\\frac{X}{\\nu}})=\\nu E(Z^2)E(\\frac{1}{X})=\\nu\\times(1+0^2)\\times\\frac{1}{\\nu-2}=\\frac{\\nu}{\\nu-2}$\n",
    "\n",
    "* When $\\nu$ increases, $Var(T)=\\frac{\\nu}{\\nu-2}$ decreases.\n",
    "\n",
    "* When $\\nu\\to\\infty$, then $Var(T)=1$, and $t(\\nu)\\to\\cal{N}(0,1)$"
   ]
  },
  {
   "cell_type": "markdown",
   "metadata": {},
   "source": [
    "### **4. Snedecor's F distribution**\n",
    "\n",
    "* $F = \\frac{\\frac{X}{\\nu_1}}{\\frac{Y}{\\nu_2}}\\implies f_F(f)=\\frac{\\Gamma(\\frac{\\nu_1+\\nu_2}{2})}{\\Gamma(\\frac{\\nu_1}{2})\\Gamma(\\frac{\\nu_2}{2})}(\\frac{\\nu_1}{\\nu_2})^{\\nu_1/2}f^{(\\nu_1/2)+1}(1+\\frac{\\nu_1}{\\nu_2}f)^{-(\\nu_1+\\nu_2)/2}$\n",
    "\n",
    "* $\\cal{R}_{\\it{F}}=\\lbrace f| f>0 \\rbrace$\n",
    "\n",
    "* $E(F)=\\frac{\\nu_2}{\\nu_1+\\nu_2}$\n",
    "\n",
    "* $Var(X)=\\frac{2\\nu_2^2(\\nu_1+\\nu_2-2)}{\\nu_1(\\nu_2-2)^2(\\nu_2-4)}$"
   ]
  },
  {
   "cell_type": "markdown",
   "metadata": {},
   "source": []
  }
 ],
 "metadata": {
  "language_info": {
   "name": "python"
  }
 },
 "nbformat": 4,
 "nbformat_minor": 2
}
