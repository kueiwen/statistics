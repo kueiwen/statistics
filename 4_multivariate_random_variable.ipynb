{
 "cells": [
  {
   "cell_type": "markdown",
   "metadata": {},
   "source": [
    "# **Multivariate Random Variable**"
   ]
  },
  {
   "cell_type": "markdown",
   "metadata": {},
   "source": [
    "## **Probablity Distribution and Expected Value**"
   ]
  },
  {
   "cell_type": "markdown",
   "metadata": {},
   "source": [
    "### 1. Joint probability function of discrete random variables\n",
    "\n",
    "* joint probability mass function  \n",
    "    $f_{XY}(xy) = \\begin{cases} P(X=x,Y=y),\\ \\forall (x,y)\\in \\cal{R}_{\\it{XY}} \\\\ 0,\\quad\\quad\\quad\\quad\\quad\\quad\\quad\\  \\forall (x,y)\\notin \\cal{R}_{\\it{XY}} \\end{cases}$  \n",
    "    * Characteristics\n",
    "        * $0 \\leq f_{XY}(xy) \\leq 1,\\ \\forall (x,y)\\in \\cal{R}_{\\it{XY}}$\n",
    "        * $\\sum\\sum_{(x,y)\\in \\cal{R}_{\\it{XY}}}f_{XY}(xy)=1$\n",
    "\n",
    "* marginal probability mass function  \n",
    "    $f_X(x) = \\sum_{y\\in \\cal{R}_{\\it{Y}}} f_{XY}(x,y)$  \n",
    "    $f_Y(y) = \\sum_{x\\in \\cal{R}_{\\it{X}}} f_{XY}(x,y)$  \n",
    "\n",
    "* joint cumulative distribution function  \n",
    "    $F_{XY}(x,y) = P(X\\leq x, Y\\leq y),\\quad \\forall (x,y)\\in \\cal{R}_{\\it{XY}}$"
   ]
  },
  {
   "cell_type": "markdown",
   "metadata": {},
   "source": [
    "### 2. Joint probability function of coontinuous random variables\n",
    "\n",
    "* joint cumulative distribution function  \n",
    "    $F_{XY}(x,y) = \\int_{-\\infty}^x \\int_{-\\infty}^y f_X(u)f_Y(v)du dv\\quad \\forall (u,v)\\in\\Bbb{R}^2$\n",
    "\n",
    "* joint probability density function  \n",
    "    $f_{XY}(x,y) = \\frac{\\partial^2 F_{XY}(x,y)}{\\partial x \\partial y}\\quad \\forall (x,y)\\in\\Bbb{R}^2$\n",
    "    * Characteristics\n",
    "        * $f_{XY}(x,y) \\geq 0,\\ \\forall (x,y)\\in\\cal{R}_{\\it{XY}}$\n",
    "\n",
    "        * $\\int_{-\\infty}^{\\infty} \\int_{-\\infty}^{\\infty} f_{XY}(x,y)dudv=1$\n",
    "\n",
    "* marginal probability density function  \n",
    "    $f_X(x) = \\int_{-\\infty}^{\\infty} f_{XY}(x,y)dy\\quad \\forall x\\in\\Bbb{R}$  \n",
    "    $f_Y(y) = \\int_{-\\infty}^{\\infty} f_{XY}(x,y)dx\\quad \\forall y\\in\\Bbb{R}$  "
   ]
  },
  {
   "cell_type": "markdown",
   "metadata": {},
   "source": [
    "### 3. Expected value of multivariate random variables\n",
    "\n",
    "* By the rule of the lazy statstics  \n",
    "    $E[X] = \\begin{cases}\\sum_{x\\in \\cal{R}_{\\it{X}}} xf_X(x),\\quad\\quad  X\\ \\text{is discrete random variable} \\\\ \\int_{x\\in \\cal{R}_{\\it{X}}} xf_X(x)dx,\\quad X\\ \\text{is continuous random variable}\\end{cases}$  \n",
    "\n",
    "    $E[Y] = \\begin{cases}\\sum_{y\\in \\cal{R}_{\\it{Y}}} yf_Y(y),\\quad\\quad  Y\\ \\text{is discrete random variable} \\\\ \\int_{y\\in \\cal{R}_{\\it{Y}}} yf_Y(y)dy,\\quad Y\\ \\text{is continuous random variable}\\end{cases}$  \n",
    "\n",
    "    $E[XY] = \\begin{cases}\\sum\\sum_{(xy)\\in \\cal{R}_{\\it{XY}}} xyf_{XY}(xy),\\quad\\quad  X,Y\\ \\text{are discrete random variables} \\\\ \\int\\int_{(x,y)\\in \\cal{R}_{\\it{XY}}} e^{t_1X}e^{t_2Y}f_{XY}(xy)dxdy,\\quad X,Y\\ \\text{are continuous random variables}\\end{cases}$"
   ]
  },
  {
   "cell_type": "markdown",
   "metadata": {},
   "source": [
    "#### 4. joint moment generating function\n",
    "\n",
    "$M_{XY}(t_1,t_2) = E[e^{t_1X}e^{t_2Y}]=\\begin{cases}\\sum\\sum_{(xy)\\in \\cal{R}_{\\it{XY}}} e^{t_1X}e^{t_2Y}f_{XY}(xy),\\quad  X,Y\\ \\text{are discrete random variables} \\\\ \\int\\int_{(x,y)\\in \\cal{R}_{\\it{XY}}} e^{t_1X}e^{t_2Y}f_{XY}(xy)dx,\\quad X,Y\\ \\text{are continuous random variables}\\end{cases}$"
   ]
  },
  {
   "cell_type": "markdown",
   "metadata": {},
   "source": [
    "## **Conditional Probability Distribution and Independent Random Variable**"
   ]
  },
  {
   "cell_type": "markdown",
   "metadata": {},
   "source": [
    "### 1. Conditional probabilitty density function\n",
    "\n",
    "* $f_{Y|X}(y|x) = \\frac{f_{XY}(x,y)}{f_X(x)}$  \n",
    "\n",
    "* Characteristics\n",
    "     * $0 \\leq f_{Y|X}(y|x) \\leq 1,\\ \\forall (x,y)\\in \\cal{R}_{\\it{XY}}$"
   ]
  },
  {
   "cell_type": "markdown",
   "metadata": {},
   "source": [
    "### 2. Independent random variables\n",
    "\n",
    "* $X$ and $Y$ are independent if $f_{Y|X}(y|x)=f_Y(y)$ for all $x,y\\in \\cal{R}_{\\it{X}}$ and $f_{X|Y}(x|y)=f_X(x)$ for all $x,y\\in \\cal{R}_{\\it{Y}}$\n",
    "\n",
    "* Independence implies that $E[XY]=E[X]E[Y]$ and $Cov(X,Y)=0$\n",
    "\n",
    "* Independence implies that $P(X=x,Y=y)=P(X=x)P(Y=y)$ for all $x,y\\in \\cal{R}_{\\it{X}}$ and $y\\in \\cal{R}_{\\it{Y}}$"
   ]
  },
  {
   "cell_type": "markdown",
   "metadata": {},
   "source": [
    "## **Conditional Expected Value and Variance**"
   ]
  },
  {
   "cell_type": "markdown",
   "metadata": {},
   "source": [
    "### 1. Conditional expectation\n",
    "\n",
    "* $E[Y|X=x] = \\begin{cases} \\sum_{y\\in \\cal{R}_{\\it{Y}}}yf_{Y|X}(y|x),\\quad\\quad  Y\\ \\text{is discrete random variable} \\\\  \\int_{y\\in \\cal{R}_{\\it{Y}}} yf_{Y|X}(y|x)dy,\\quad\\quad  Y\\ \\text{is continuous random variable}\\end{cases}$\n",
    "\n",
    "### 2. Conditional variance\n",
    "\n",
    "* $Var(Y|X=x) = E[(Y-E[Y|X=x])^2|X=x]=E(Y^2|X=x)-[E(Y|X=x)]^2$"
   ]
  },
  {
   "cell_type": "markdown",
   "metadata": {},
   "source": [
    "### 3. The double expectation theorem\n",
    "\n",
    "* $E(X)=E[E(X|Y)]$\n",
    "    * $E[E(X|Y)]$  \n",
    "        $= \\int_{y\\in \\cal{R}_{\\it{Y}}}E(X|Y=y)f_Y(y)dy$  \n",
    "\n",
    "        $=\\int_{y\\in \\cal{R}_{\\it{Y}}}\\int_{x\\in \\cal{R}_{\\it{X}}}xf_{X|Y}(x|y)dxf_Y(y)dy$  \n",
    "\n",
    "        $=\\int_{y\\in \\cal{R}_{\\it{Y}}}\\int_{x\\in \\cal{R}_{\\it{X}}}xf_{X|Y}(x|y)f_Y(y)dxdy$  \n",
    "\n",
    "        $=\\int\\int_{(x,y)\\in \\cal{R}_{\\it{XY}}}xf_{XY}(x,y)dxdy$  \n",
    "\n",
    "        $=E(X)$\n",
    "\n",
    "* extended\n",
    "    * $E(XY)=E[E(XY|X)]=E[XE(Y|X)]$"
   ]
  },
  {
   "cell_type": "markdown",
   "metadata": {},
   "source": [
    "### 4.  The variance decomposition fromula\n",
    "\n",
    "* $Var(X) = E[Var(X|Y)] - Var[E(X|Y)]$\n",
    "    * $Var(X)$ is total variance\n",
    "    * $E[Var(X|Y)]$ is inter-group variance\n",
    "    * $Var[E(X|Y)]$ is intra-group variance"
   ]
  },
  {
   "cell_type": "markdown",
   "metadata": {},
   "source": [
    "## **Covariance and Correlation Coefficient**"
   ]
  },
  {
   "cell_type": "markdown",
   "metadata": {},
   "source": [
    "### 1. Covariance\n",
    "\n",
    "* $Cov(X,Y) = E[(X-E[X])(Y-E[Y])]=E(XY)-E(X)E(Y)$\n",
    "\n",
    "* Characteristics\n",
    "    * $Cov(X,a) = 0$\n",
    "    * $Cov(X,Y)=Cov(Y,X)$\n",
    "    * $Cov(X,X)=Var(X)$\n",
    "    * $Cov(X,Y)=0$ if $X$ and $Y$ are independent\n",
    "    * $Cov(X+c, Y+d)=Cov(X,Y)$\n",
    "    * $Cov(aX, bY)=abCov(X,Y)$\n",
    "    * $-\\sigma_X\\sigma_Y \\leq \\sigma_{XY} \\leq \\sigma_X\\sigma_Y$\n"
   ]
  },
  {
   "cell_type": "markdown",
   "metadata": {},
   "source": [
    "### 2.  Correlation coefficients\n",
    "\n",
    "* $\\rho_{XY}=\\frac{Cov(X,Y)}{\\sigma_X \\sigma_Y}$\n",
    "    * $-1 \\leq \\rho_{XY} \\leq 1$\n",
    "    * $\\rho_{XY}=0$ if $X$ and $Y$ are independent\n",
    "    * $\\rho_{XY}=1$ if $X$ and $Y$ are perfectly positively correlated\n",
    "    * $\\rho_{XY}=-1$ if $X$ and $Y$ are perfectly negatively correlated"
   ]
  }
 ],
 "metadata": {
  "language_info": {
   "name": "python"
  }
 },
 "nbformat": 4,
 "nbformat_minor": 2
}
