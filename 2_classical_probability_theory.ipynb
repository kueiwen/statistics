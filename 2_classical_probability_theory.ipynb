{
 "cells": [
  {
   "cell_type": "markdown",
   "metadata": {},
   "source": [
    "# **Classical Probability Theory**"
   ]
  },
  {
   "cell_type": "markdown",
   "metadata": {},
   "source": [
    "### 1. Kologorov's axioms\n",
    "(1) $P(A)\\leq0,\\ A\\subset S$  \n",
    "(2) $P(S)=1$  \n",
    "(3) $P(\\bigcup_{i=1}^{\\infty}A_i)=\\sum_{i=1}^{\\infty}P(A_i),\\quad A_i\\cap A_j=\\emptyset,\\ \\forall i\\neq j$  "
   ]
  },
  {
   "cell_type": "markdown",
   "metadata": {},
   "source": [
    "### 2. the law of total probability\n",
    "$P(B) = P(A\\cap B)+P(A\\cap B^{'})$"
   ]
  },
  {
   "cell_type": "markdown",
   "metadata": {},
   "source": [
    "### 3. the addition rule\n",
    "* original  \n",
    "    $P(A\\cup B)=P(A)+P(B)-P(A\\cap B)$\n",
    "\n",
    "* if $A$ and $B$ are mutually exclusize  \n",
    "    $P(A\\cup B)=P(A)+P(B)$\n",
    "\n",
    "* extended  \n",
    "    $P(A\\cup B\\cup C)=P(A)+P(B)+P(C)-P(A\\cap B)-P(B\\cap C)-P(C\\cap A)+P(A\\cap B\\cap C)$"
   ]
  },
  {
   "cell_type": "markdown",
   "metadata": {},
   "source": [
    "### 4. Boole's inequality\n",
    "* original  \n",
    "    $P(A\\bigcup B) \\leq P(A) + P(B)$\n",
    "\n",
    "* if $A$ and $B$ are mutually exclusize  \n",
    "    $P(A\\bigcup B) = P(A) + P(B)$\n",
    "\n",
    "* extended  \n",
    "    $P(\\bigcup_{i=1}^{n}A_i) \\leq \\sum_{i=1}^{n}A_i$"
   ]
  },
  {
   "cell_type": "markdown",
   "metadata": {},
   "source": [
    "### 5. Bonferroni's inequality\n",
    "* original  \n",
    "    $P(A \\cap B)=1-P(A^{'})-P(B^{'})$    or    $P(A \\cap B) \\leq P(A) + P(B) - 1$\n",
    "\n",
    "* extended  \n",
    "    $P(\\bigcup_{i=1}^{n}A_i) \\geq 1-\\sum_{i=1}^{n}P(A_i^{'})$ or   \n",
    "\n",
    "    $P(\\bigcup_{i=1}^{n}A_i) \\leq \\sum_{i=1}^{n}P(A_i) - n + 1$"
   ]
  },
  {
   "cell_type": "markdown",
   "metadata": {},
   "source": [
    "### 6. Conditional probability\n",
    "\n",
    "If event $B$ has happend, the probability of the event $A$ happening is.\n",
    "\n",
    "$P(A|B) = \\frac{P(A \\cap B)}{P(B)}$\n",
    "    "
   ]
  },
  {
   "cell_type": "markdown",
   "metadata": {},
   "source": [
    "### 7. idependence\n",
    "\n",
    "If $A$ and $B$ are independent, then the probability of the event $A$ happening is not affected by event $B$ happened or not, vice versa.\n",
    "\n",
    "$A \\perp B \\iff P(A|B) = P(A)\\iff P(B|A) = P(B)\\iff P(A\\cap B) = P(A)P(B)$\n",
    "\n",
    "\n"
   ]
  },
  {
   "cell_type": "markdown",
   "metadata": {},
   "source": [
    "### 8. partition\n",
    "\n",
    "* pairwise mutually exclusive: $A_i \\cap A_j = \\emptyset,\\ \\forall i\\neq j$\n",
    "* collectively exhaustive: $\\bigcup_{i=1}^{n}A_I=S$"
   ]
  },
  {
   "cell_type": "markdown",
   "metadata": {},
   "source": [
    "### 9. the law of total probability\n",
    "\n",
    "$P(B) = \\sum_{i=1}^{n}P(A_i\\cap B) = \\sum_{i=1}^{n}P(B|A_i)P(A_i)$"
   ]
  },
  {
   "cell_type": "markdown",
   "metadata": {},
   "source": [
    "### 10.  Baye's rule\n",
    "\n",
    "$P(A_k|B) = \\frac{P(B|A_k)P(A_k)}{\\sum_{i=1}^{n}P(B|A_i)P(A_i)}$  \n",
    "\n",
    "$P(A_i)$ is called prior probability (not yet consider event $B$), and $P(A_k|B)$ is posterior probability (given event $B$ happened)."
   ]
  }
 ],
 "metadata": {
  "language_info": {
   "name": "python"
  }
 },
 "nbformat": 4,
 "nbformat_minor": 2
}
