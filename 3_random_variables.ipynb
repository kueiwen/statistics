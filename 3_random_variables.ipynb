{
 "cells": [
  {
   "cell_type": "markdown",
   "metadata": {},
   "source": [
    "# **Random Variables**"
   ]
  },
  {
   "cell_type": "markdown",
   "metadata": {},
   "source": [
    "Random variable $X$ is real-valued function defined in sample space $S$  \n",
    "$X: S \\rightarrow \\Bbb{R}$\n",
    "\n",
    "* We use uppercase $X,\\ Y$ represents random variable itself, and lowercase $x,\\ y$ represents a specific number of random variable.\n",
    "* Random variablee can be a variable within a range, but actually which number is decided randomly.\n",
    "* random variable range  \n",
    "     $\\cal{R}_{\\it{x}}=\\it{\\lbrace x|x\\in X(w),\\forall w\\in S\\rbrace}$\n",
    "* discrete or continuous\n",
    "    - discrete random variables: random variable range $\\cal{R}_{\\it{x}}$ is finite or countably infinite.\n",
    "    - continuous random variables: random variable range $\\cal{R}_{\\it{x}}$ is uncountably infinite.\n"
   ]
  },
  {
   "cell_type": "markdown",
   "metadata": {},
   "source": [
    "### Probability distribution of discrete random variables\n",
    "\n",
    "1. probability mass function (pmf)  \n",
    "    $f_X(x) = \\begin{cases} P(X=x),\\ \\forall x\\in \\cal{R}_{\\it{x}} \\\\ 0,\\quad\\quad\\quad\\quad \\forall x\\notin \\cal{R}_{\\it{x}} \\end{cases}$  \n",
    "    * pmf is non-negative, i.e., $f_X(x) \\geq 0$ for all $x$ in $\\cal{R}_{\\it{x}}$ and $\\sum_{x\\in\\cal{R}_{\\it{x}}} f_X(x) = 1$.\n",
    "    * sum of pmf of all possible $x$ should equal 1, $\\sum_{x\\in\\cal{R}_{\\it{x}}}f_X(x)=1$\n",
    "    * pmf gives the probability of occurrence of a specific value of a discrete random variable.\n",
    "    * example: coin toss, dice roll, card draw, etc.\n",
    "\n",
    "2. cumulative distribution function (cdf)  \n",
    "    $F_X(x) = P(X\\leq x),\\quad -\\infty<x<0\\infty $\n",
    "    * cdf starts from 0, and ends with 1.  \n",
    "    $\\lim_{x\\to -\\infty}F_X(x)=0$  \n",
    "    $\\lim_{x\\to \\infty}F_X(x)=1$  \n",
    "\n",
    "    * cdf is non-decreasing, i.e., $F_X(x) \\leq F_X(y)\\quad \\forall\\ x\\leq y$\n",
    "\n",
    "3. pmf and cdf\n",
    "    * $F_X(x) = P(X \\leq x) = \\sum_{t\\leq x}f_X(t)$  \n",
    "    * $f_X(x) = F_X(x) - \\lim_{t\\to -x}F_X(t) = F_X(x) - F_X(x^{-})$\n",
    "    * $P(a<X\\leq b)=P(X\\leq b)-P(X\\leq a) = F_X(b) - F_X(a) = \\sum_{a<x\\leq b}f_X(x)$\n"
   ]
  },
  {
   "cell_type": "markdown",
   "metadata": {},
   "source": [
    "### Probability distribution of continuous random variables\n",
    "\n",
    "1. cumulative distribution function (cdf)  \n",
    "    $F_X(x) = P(X\\leq x)  = P(X < x)$\n",
    "\n",
    "2. probability density function (pdf)  \n",
    "    $f_X(x) = \\frac{dF_X(x)}{dx}$\n",
    "    * pdf is not probability, is the change rate (slope) of that point.\n",
    "    * $f_X(x)\\geq 0,\\quad \\forall x\\in \\cal{R}_{\\it{x}}$  \n",
    "\n",
    "    * $\\int_{x\\in \\cal{R}_{\\it{x}}}f_X(x)dx=1$\n",
    "\n",
    "    * pdf of a single point is 0.   \n",
    "    $P(X=a)=\\int_a^af_X(x)dx=0$\n",
    "\n",
    "    * cdf starts from 0, and ends with 1.  \n",
    "    $\\lim_{x\\to -\\infty}F_X(x)=0$  \n",
    "    $\\lim_{x\\to \\infty}F_X(x)=1$  \n",
    "\n",
    "    * cdf is non-decreasing, i.e., $F_X(x) \\leq F_X(y)\\quad \\forall\\ x\\leq y$"
   ]
  },
  {
   "cell_type": "markdown",
   "metadata": {},
   "source": [
    "### Expected value\n",
    "* If $X$ is discrete random variable\n",
    "    * $E(X)=\\sum_{x\\in\\cal{R}_{\\it{x}}}xf_X(x)$\n",
    "\n",
    "* If $X$ is continuous random variable\n",
    "    * $E(X)=\\int_{\\cal{R}_{\\it{x}}}xf_X(x)dx$\n",
    "\n",
    "* Characteristic of expected value\n",
    "    * $E(c) = c$\n",
    "    * $E(X+b) = E(X) + b$\n",
    "    * $E(aX) = aE(X)$\n",
    "    * $E[ag(X)] = aE[g(x)]$\n"
   ]
  },
  {
   "cell_type": "markdown",
   "metadata": {},
   "source": [
    "### Variance\n",
    "\n",
    "* If $X$ is discrete random variable\n",
    "    * $Var(X)=\\sum_{x\\in\\cal{R}_{\\it{x}}}[(x-E(X))^2f_X(x)]$\n",
    "\n",
    "* If $X$ is continuous random variable\n",
    "    * $Var(X)=\\int_{\\cal{R}_{\\it{x}}}[(x-E(X))^2f_X(x)dx$\n",
    "\n",
    "* Characteristic of variance\n",
    "    * $Var(X)=E[(X-E(X))^2]$\n",
    "    * $Var(X)=E(X^2) - [E(X)]^2$\n",
    "    * $Var(X)\\geq 0$\n",
    "    * $Var(c) = 0$\n",
    "    * $Var(cX) = c^2Var(X)$\n",
    "    * $Var(X+b) = Var(X)$"
   ]
  },
  {
   "cell_type": "markdown",
   "metadata": {},
   "source": []
  }
 ],
 "metadata": {
  "kernelspec": {
   "display_name": "Python 3",
   "language": "python",
   "name": "python3"
  },
  "language_info": {
   "name": "python",
   "version": "3.8.8"
  }
 },
 "nbformat": 4,
 "nbformat_minor": 2
}
