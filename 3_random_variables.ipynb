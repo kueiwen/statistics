{
 "cells": [
  {
   "cell_type": "markdown",
   "metadata": {},
   "source": [
    "# **Random Variables**"
   ]
  },
  {
   "cell_type": "markdown",
   "metadata": {},
   "source": [
    "Random variable $X$ is real-valued function defined in sample space $S$  \n",
    "$X: S \\rightarrow \\Bbb{R}$\n",
    "\n",
    "* We use uppercase $X,\\ Y$ represents random variable itself, and lowercase $x,\\ y$ represents a specific number of random variable.\n",
    "* Random variablee can be a variable within a range, but actually which number is decided randomly.\n",
    "* random variable range  \n",
    "     $\\cal{R}_{\\it{x}}=\\it{\\lbrace x|x\\in X(w),\\forall w\\in S\\rbrace}$\n",
    "* discrete or continuous\n",
    "    - discrete random variables: random variable range $\\cal{R}_{\\it{x}}$ is finite or countably infinite.\n",
    "    - continuous random variables: random variable range $\\cal{R}_{\\it{x}}$ is uncountably infinite.\n"
   ]
  },
  {
   "cell_type": "markdown",
   "metadata": {},
   "source": [
    "## **Probability Distribution**"
   ]
  },
  {
   "cell_type": "markdown",
   "metadata": {},
   "source": [
    "### 1. Probability distribution of discrete random variables\n",
    "\n",
    "* probability mass function (pmf)  \n",
    "    $f_X(x) = \\begin{cases} P(X=x),\\ \\forall x\\in \\cal{R}_{\\it{x}} \\\\ 0,\\quad\\quad\\quad\\quad \\forall x\\notin \\cal{R}_{\\it{x}} \\end{cases}$  \n",
    "    * pmf is non-negative, i.e., $f_X(x) \\geq 0$ for all $x$ in $\\cal{R}_{\\it{x}}$ and $\\sum_{x\\in\\cal{R}_{\\it{x}}} f_X(x) = 1$.\n",
    "    * sum of pmf of all possible $x$ should equal 1, $\\sum_{x\\in\\cal{R}_{\\it{x}}}f_X(x)=1$\n",
    "    * pmf gives the probability of occurrence of a specific value of a discrete random variable.\n",
    "    * example: coin toss, dice roll, card draw, etc.\n",
    "\n",
    "* cumulative distribution function (cdf)  \n",
    "    $F_X(x) = P(X\\leq x),\\quad -\\infty<x<0\\infty $\n",
    "    * cdf starts from 0, and ends with 1.  \n",
    "    $\\lim_{x\\to -\\infty}F_X(x)=0$  \n",
    "    $\\lim_{x\\to \\infty}F_X(x)=1$  \n",
    "\n",
    "    * cdf is non-decreasing, i.e., $F_X(x) \\leq F_X(y)\\quad \\forall\\ x\\leq y$\n",
    "\n",
    "* pmf and cdf\n",
    "    * $F_X(x) = P(X \\leq x) = \\sum_{t\\leq x}f_X(t)$  \n",
    "    * $f_X(x) = F_X(x) - \\lim_{t\\to -x}F_X(t) = F_X(x) - F_X(x^{-})$\n",
    "    * $P(a<X\\leq b)=P(X\\leq b)-P(X\\leq a) = F_X(b) - F_X(a) = \\sum_{a<x\\leq b}f_X(x)$\n"
   ]
  },
  {
   "cell_type": "markdown",
   "metadata": {},
   "source": [
    "### 2. Probability distribution of continuous random variables\n",
    "\n",
    "* cumulative distribution function (cdf)  \n",
    "    $F_X(x) = P(X\\leq x)  = P(X < x)$  \n",
    "    <img src=\"img/pdf_a_b.png\" width=\"600\">  \n",
    "    <img src=\"img/pdf_to_a.png\" width=\"600\">  \n",
    "\n",
    "* probability density function (pdf)  \n",
    "    $f_X(x) = \\frac{dF_X(x)}{dx}$  \n",
    "    <img src=\"img/pdf_slope.png\" width=\"600\">\n",
    "    * pdf is not probability, is the change rate (slope) of that point.\n",
    "    * $f_X(x)\\geq 0,\\quad \\forall x\\in \\cal{R}_{\\it{x}}$  \n",
    "\n",
    "    * $\\int_{x\\in \\cal{R}_{\\it{x}}}f_X(x)dx=1$  \n",
    "    <img src=\"img/pdf_all.png\" width=\"600\">\n",
    "    * pdf of a single point is 0.   \n",
    "    $P(X=a)=\\int_a^af_X(x)dx=0$  \n",
    "    <img src=\"img/pdf_single.png\" width=\"600\">\n",
    "    * cdf starts from 0, and ends with 1.  \n",
    "    $\\lim_{x\\to -\\infty}F_X(x)=0$  \n",
    "    $\\lim_{x\\to \\infty}F_X(x)=1$  \n",
    "\n",
    "    * cdf is non-decreasing, i.e., $F_X(x) \\leq F_X(y)\\quad \\forall\\ x\\leq y$"
   ]
  },
  {
   "cell_type": "markdown",
   "metadata": {},
   "source": [
    "## **Expected Value, Variance and Standard deviation**"
   ]
  },
  {
   "cell_type": "markdown",
   "metadata": {},
   "source": [
    "### 1. Expected value\n",
    "* If $X$ is discrete random variable\n",
    "    * $E(X)=\\sum_{x\\in\\cal{R}_{\\it{x}}}xf_X(x)$\n",
    "\n",
    "* If $X$ is continuous random variable\n",
    "    * $E(X)=\\int_{\\cal{R}_{\\it{x}}}xf_X(x)dx$\n",
    "\n",
    "* Characteristic of expected value\n",
    "    * $E(c) = c$\n",
    "    * $E(X+b) = E(X) + b$\n",
    "    * $E(aX) = aE(X)$\n",
    "    * $E[ag(X)] = aE[g(x)]$\n"
   ]
  },
  {
   "cell_type": "markdown",
   "metadata": {},
   "source": [
    "### 2. Variance\n",
    "\n",
    "* If $X$ is discrete random variable\n",
    "    * $Var(X)=\\sum_{x\\in\\cal{R}_{\\it{x}}}[(x-E(X))^2f_X(x)]$\n",
    "\n",
    "* If $X$ is continuous random variable\n",
    "    * $Var(X)=\\int_{\\cal{R}_{\\it{x}}}[(x-E(X))^2f_X(x)dx$\n",
    "\n",
    "* Characteristic of variance\n",
    "    * $Var(X)=E[(X-E(X))^2]$\n",
    "    * $Var(X)=E(X^2) - [E(X)]^2$\n",
    "    * $Var(X)\\geq 0$\n",
    "    * $Var(c) = 0$\n",
    "    * $Var(cX) = c^2Var(X)$\n",
    "    * $Var(X+b) = Var(X)$"
   ]
  },
  {
   "cell_type": "markdown",
   "metadata": {},
   "source": [
    "### 3. Standard Deviation\n",
    "\n",
    "* $SD(X)=\\sqrt{Var(X)}$\n",
    "\n",
    "* Characteristic of standard deviation\n",
    "    * $SD(X)\\geq 0$\n",
    "    * $SD(c) = 0$\n",
    "    * $SD(cX) = |c|SD(X)$\n",
    "    * $SD(X+b) = SD(X)$"
   ]
  },
  {
   "cell_type": "markdown",
   "metadata": {},
   "source": [
    "## **Population Moment**"
   ]
  },
  {
   "cell_type": "markdown",
   "metadata": {},
   "source": [
    "### 1. Population moment\n",
    "\n",
    "*  raw moment / $r\\text{th}$ population moment about the origin  \n",
    "    $\\mu_r^{'}=E[(X-0)^r]=E(X^r)=\\begin{cases} \\sum_{x\\in \\cal{R}_{\\it{x}}}x^{r}f_{X}(x),\\quad X\\ \\text{is discrete random variable} \\\\ \\int_{x\\in \\cal{R}_{\\it{x}}}x^{r}f_{X}(x)dx,\\ X\\ \\text{is continuous random variable} \\end{cases}$\n",
    "\n",
    "* principal moment / central moment / $r\\text{th}$ population moment about the mean  \n",
    "    $\\mu_r=E[(X-\\mu)^r]=\\begin{cases} \\sum_{x\\in \\cal{R}_{\\it{x}}}(x-\\mu)^{r}f_{X}(x),\\quad X\\ \\text{is discrete random variable} \\\\ \\int_{x\\in \\cal{R}_{\\it{x}}}(x-\\mu)^{r}f_{X}(x)dx,\\ X\\ \\text{is continuous random variable} \\end{cases}$\n",
    "\n",
    "* $r\\text{th}$ population factorial moment  \n",
    "    $\\mu_{[r]}=E[X(X-1)....(X-r+1)]=\\begin{cases} \\sum_{x\\in \\cal{R}_{\\it{x}}}x(x-1)...(x-r+1)f_{X}(x),\\quad X\\ \\text{is discrete random variable} \\\\ \\int_{x\\in \\cal{R}_{\\it{x}}}x(x-1)...(x-r+1)f_{X}(x)dx,\\ X\\ \\text{is continuous random variable} \\end{cases}$"
   ]
  },
  {
   "cell_type": "markdown",
   "metadata": {},
   "source": [
    "### 2. Population coefficient of skewness\n",
    "\n",
    "* $\\alpha_3=\\frac{\\mu_{3}}{\\sigma_3}=\\frac{E[(X-\\mu)^3]}{\\sigma_3}$\n",
    "\n",
    "* Characteristic of skewness\n",
    "    * $\\alpha_3>0$: skewed to the right, positive skewness\n",
    "    * $\\alpha_3=0$: sysmetric distribution\n",
    "    * $\\alpha_3<0$: skewed to the left, negative skewness"
   ]
  },
  {
   "cell_type": "markdown",
   "metadata": {},
   "source": [
    "### 3. Population Pearson coefficient\n",
    "\n",
    "* $sk_p=\\frac{\\mu-m_o}{\\sigma}$ or $sk_p=3\\frac{\\mu-\\eta}{\\sigma}$\n",
    "\n",
    "* Characteristic of Pearson correlation coefficient\n",
    "    * $sk_p>0$: skewed to the right, positive skewness\n",
    "    * $sk_p=0$: sysmetric distribution\n",
    "    * $sk_p<0$: skewed to the left, negative skewness"
   ]
  },
  {
   "cell_type": "markdown",
   "metadata": {},
   "source": [
    "### 4. Population Coefficient of kurtosis\n",
    "\n",
    "* $\\alpha_4=\\frac{\\mu_{4}}{\\sigma_4}=\\frac{E[(X-\\mu)^4]}{\\sigma_4}$\n",
    "\n",
    "* Characteristic of kurtosis\n",
    "    * $\\alpha_4>3$: leptokurtic distribution (thick-tail, has outlier)\n",
    "    * $\\alpha_4=3$: mesokurtic distribution (normal distribution)\n",
    "    * $\\alpha_4<3$: playtikurtic distribution (thin-tail, less outlier, uniform distribution)"
   ]
  },
  {
   "cell_type": "markdown",
   "metadata": {},
   "source": [
    "### 5. Moment Gernerating Function (mgf)\n",
    "\n",
    "* $M_X(t)=E[e^{tX}]=\\begin{cases}\\sum_{x\\in \\cal{R}_{\\it{x}}}e^{tx}f_{X}(x),\\quad X\\ \\text{is discrete random variable} \\\\ \\int_{x\\in \\cal{R}_{\\it{x}}}e^{tx}f_{X}(x)dx,\\ X\\ \\text{is continuous random variable} \\end{cases}$\n",
    "* Can get raw moment by taking derivative with respect to $t$\n",
    "    * $M_x^{'}(t)|_{t=0}=M_x^{'}(0)=E(X)$\n",
    "    * $M_x^{(r)}(t)|_{t=0}=M_{X}^{(r)}(0)=E(X^r)=\\mu_r$\n",
    "\n",
    "* Characteristic of mgf\n",
    "    * $M_X(0)=1$\n",
    "    * $M_X(t)=e^{\\mu t}M_X(t-1)$\n",
    "\n",
    "    * $\\frac{d^{r}M_{x}(t)}{dt^r}|_{t=0}=M_{X}^{(r)}(0)=E(X^r)=\\mu_r^{'}$\n",
    "\n",
    "    * If $Y=aX+b$, then $M_Y(t)=e^{bt}M_X(at)$"
   ]
  },
  {
   "cell_type": "markdown",
   "metadata": {},
   "source": [
    "### 6. Factorial Moment Generating Function (fmgf)\n",
    "\n",
    "* $G_X(t)=E[e^{tX}]=\\begin{cases}\\sum_{x\\in \\cal{R}_{\\it{x}}}e^{tx}f_{X}(x),\\quad X\\ \\text{is discrete random variable} \\\\ \\int_{x\\in \\cal{R}_{\\it{x}}}e^{tx}f_{X}(x)dx,\\ X\\ \\text{is continuous random variable} \\end{cases}$\n",
    "\n",
    "* Can get factorial moment by taking derivative with respect to $t$  \n",
    "    * $G_x^{'}(t)|_{t=1}=G_x^{'}(1)=E(X)$\n",
    "    * $G_x^{(r)}(t)|_{t=1}=M_{X}^{(r)}(1)=E(X(X-1)...(X-r+1))$\n",
    "\n",
    "\n",
    "* Characteristic of fmgf\n",
    "    * $F_X(0)=1$\n",
    "    * $F_X(t)=e^{\\mu t}F_X(t-1)$"
   ]
  },
  {
   "cell_type": "markdown",
   "metadata": {},
   "source": [
    "## **Inequality**"
   ]
  },
  {
   "cell_type": "markdown",
   "metadata": {},
   "source": [
    "### 1. Markov's inequality\n",
    "\n",
    "* $P(X\\geq a)\\leq\\frac{E(X)}{a},\\quad \\forall a>0$"
   ]
  },
  {
   "cell_type": "markdown",
   "metadata": {},
   "source": [
    "### 2. Chebyshev's inequality\n",
    "\n",
    "* $P(|X-\\mu|\\geq k\\sigma)\\leq\\frac{1}{k^2}$ and $P(|X-\\mu|< k\\sigma)\\geq1-\\frac{1}{k^2},\\quad \\forall k>0$  \n",
    "    <img src=\"img/chebyshev_inequality.png\" width=\"600\">"
   ]
  },
  {
   "cell_type": "markdown",
   "metadata": {},
   "source": [
    "### 3. Jensen's inequality\n",
    "\n",
    "* $f(E(X))\\geq E(f(X)),\\quad \\text{if}\\ f\\text{ is convex}$ ($f^{''}(x)\\geq 0$)\n",
    "\n",
    "* $f(E(X))\\leq E(f(X)),\\quad \\text{if}\\ f\\text{ is concave}$ ($f^{''}(x)\\leq 0$)\n"
   ]
  }
 ],
 "metadata": {
  "kernelspec": {
   "display_name": "Python 3",
   "language": "python",
   "name": "python3"
  },
  "language_info": {
   "name": "python",
   "version": "3.8.8"
  }
 },
 "nbformat": 4,
 "nbformat_minor": 2
}
